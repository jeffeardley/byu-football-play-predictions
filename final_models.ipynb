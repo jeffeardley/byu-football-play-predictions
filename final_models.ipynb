{
 "cells": [
  {
   "cell_type": "code",
   "execution_count": 1,
   "metadata": {},
   "outputs": [],
   "source": [
    "from sklearn.neural_network import MLPClassifier\n",
    "import utility as ut\n",
    "import numpy as np\n",
    "from sklearn.model_selection import cross_val_score, train_test_split"
   ]
  },
  {
   "cell_type": "code",
   "execution_count": 3,
   "metadata": {},
   "outputs": [
    {
     "name": "stdout",
     "output_type": "stream",
     "text": [
      "Number of Iterations until Convergence: 332\n",
      "Training Set Accuracy: 0.49921996879875197\n",
      "Test Set Accuracy: 0.4672897196261682\n"
     ]
    }
   ],
   "source": [
    "# load in data\n",
    "df = ut.make_big_df()\n",
    "df = ut.process(df)\n",
    "df = df.dropna().reset_index(drop=True)\n",
    "\n",
    "X = df.drop(columns=['Play Type']).to_numpy()\n",
    "y = df['Play Type'].to_numpy()\n",
    "\n",
    "X_train, X_test, y_train, y_test = train_test_split(X, y, test_size=0.2)\n",
    "\n",
    "# make model\n",
    "mlp = MLPClassifier(hidden_layer_sizes=[20], activation='logistic', solver='sgd',\n",
    "                    alpha=0, batch_size=1, learning_rate_init=.01, shuffle=True,\n",
    "                    momentum=0, n_iter_no_change=50, max_iter=1000)\n",
    "mlp.fit(X_train, y_train)\n",
    "\n",
    "num_itr = mlp.n_iter_\n",
    "\n",
    "# training set acc\n",
    "train_pred = mlp.predict(X_train)\n",
    "# train_acc = accuracy_score(y_train, train_pred)\n",
    "train_acc = mlp.score(X_train, y_train)\n",
    "\n",
    "# test set acc\n",
    "test_pred = mlp.predict(X_test)\n",
    "# test_acc = accuracy_score(y_test, test_pred)\n",
    "test_acc = mlp.score(X_test, y_test)\n",
    "\n",
    "print(\"Number of Iterations until Convergence:\", num_itr)\n",
    "print(\"Training Set Accuracy:\", train_acc)\n",
    "print(\"Test Set Accuracy:\", test_acc)"
   ]
  }
 ],
 "metadata": {
  "kernelspec": {
   "display_name": "Python 3",
   "language": "python",
   "name": "python3"
  },
  "language_info": {
   "codemirror_mode": {
    "name": "ipython",
    "version": 3
   },
   "file_extension": ".py",
   "mimetype": "text/x-python",
   "name": "python",
   "nbconvert_exporter": "python",
   "pygments_lexer": "ipython3",
   "version": "3.12.0"
  }
 },
 "nbformat": 4,
 "nbformat_minor": 2
}
