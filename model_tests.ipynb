{
 "cells": [
  {
   "cell_type": "code",
   "execution_count": 4,
   "metadata": {},
   "outputs": [],
   "source": [
    "import utility as ut\n",
    "import numpy as np\n",
    "from sklearn.preprocessing import LabelEncoder, OneHotEncoder\n",
    "from sklearn.ensemble import RandomForestClassifier\n",
    "from sklearn.model_selection import train_test_split\n",
    "from sklearn.metrics import accuracy_score\n",
    "from sklearn.neural_network import MLPClassifier"
   ]
  },
  {
   "cell_type": "code",
   "execution_count": 34,
   "metadata": {},
   "outputs": [],
   "source": [
    "# TODO: Process data\n",
    "# This is easy with dataframes. Pick out what features we wanna use, make sure they are numerical, scale (if necessary)\n",
    "# Then just pick out the features and go .to_numpy() and then our y values .to_numpy() and we're ready to train"
   ]
  },
  {
   "cell_type": "code",
   "execution_count": 35,
   "metadata": {},
   "outputs": [],
   "source": [
    "df = ut.make_big_df()\n",
    "df['run'] = np.where(df['Play Type'].str.contains('Rush'), 1, 0)\n",
    "df['pass'] = np.where(df['Play Type'].str.contains('Pass'), 1, 0)\n",
    "df['Scoring'] = df['Scoring'].astype(int)\n",
    "\n",
    "df[['Clock Minutes', 'Clock Seconds']]\n",
    "df['totalseconds'] = (df['Clock Minutes'] * 60) + df['Clock Seconds']\n",
    "df[['Clock Minutes', 'Clock Seconds', 'totalseconds']]\n",
    "df['pointsscored'] = df['Offense Score'] + df['Defense Score']\n",
    "df[['Offense Score', 'Defense Score', 'pointsscored']]\n",
    "df['Previous Play Yards'] = df.groupby('Game Id')['Yards Gained'].shift()"
   ]
  },
  {
   "cell_type": "code",
   "execution_count": 36,
   "metadata": {},
   "outputs": [],
   "source": [
    "key_features = ['Offense Score', 'Defense Score', 'Drive Number', 'Play Number', 'Period', 'totalseconds', \n",
    "                'Offense Timeouts', 'Yard Line', 'Yards To Goal', 'Down', 'Distance', 'Previous Play Yards', \n",
    "                'Play Type']\n",
    "\n",
    "\n",
    "# Filter the DataFrame\n",
    "keep_play_types = ['Rush', 'Pass', 'Rushing Touchdown', 'Pass Reception', 'Pass Incompletion',\n",
    "                           'Passing Touchdown', 'Pass Interception Return']\n",
    "df = df[df['Play Type'].isin(keep_play_types)]\n",
    "\n",
    "play_type_mapping = {\n",
    "    'Rushing Touchdown': 'Rush',\n",
    "    'Pass Reception': 'Pass',\n",
    "    'Pass Incompletion': 'Pass',\n",
    "    'Passing Touchdown': 'Pass',\n",
    "    'Pass Interception Return': 'Pass'\n",
    "}\n",
    "\n",
    "df = df.replace(play_type_mapping)\n",
    "df['Play Type'] = LabelEncoder().fit_transform(df['Play Type'])\n",
    "\n",
    "\n",
    "df = df[key_features]\n",
    "df = df.dropna()\n",
    "X = df.drop(columns=['Play Type']).to_numpy()\n",
    "y = df['Play Type'].to_numpy()"
   ]
  },
  {
   "cell_type": "code",
   "execution_count": 37,
   "metadata": {},
   "outputs": [],
   "source": [
    "# TODO: Train models\n",
    "# Also pretty easy, just input the stuff, tweak hyperparameters (grid search baby) and set that beast loose"
   ]
  },
  {
   "cell_type": "code",
   "execution_count": 38,
   "metadata": {},
   "outputs": [
    {
     "name": "stdout",
     "output_type": "stream",
     "text": [
      "Training accuracy: 1.0\n",
      "Test accuracy: 0.5740740740740741\n"
     ]
    }
   ],
   "source": [
    "X_train, X_test, y_train, y_test = train_test_split(X, y, test_size=0.2, random_state=42)\n",
    "\n",
    "clf = RandomForestClassifier(random_state=42)\n",
    "clf.fit(X_train, y_train)\n",
    "\n",
    "print(f\"Training accuracy: {clf.score(X_train, y_train)}\")\n",
    "print(f\"Test accuracy: {clf.score(X_test, y_test)}\")"
   ]
  },
  {
   "cell_type": "code",
   "execution_count": null,
   "metadata": {},
   "outputs": [],
   "source": []
  },
  {
   "cell_type": "markdown",
   "metadata": {},
   "source": [
    "# Ensemble of MLPs with boosting"
   ]
  },
  {
   "cell_type": "code",
   "execution_count": null,
   "metadata": {},
   "outputs": [],
   "source": [
    "# load in data\n",
    "\n",
    "# make model\n",
    "mlp = MLPClassifier(hidden_layer_sizes=[20], activation='logistic', solver='sgd',\n",
    "                    alpha=0, batch_size=1, learning_rate_init=.01, shuffle=True,\n",
    "                    momentum=0, n_iter_no_change=50, max_iter=1000)\n",
    "clf = mlp.fit(X_train, y_train)\n",
    "\n",
    "num_itr = clf.n_iter_\n",
    "\n",
    "# training set acc\n",
    "train_pred = clf.predict(X_train)\n",
    "train_acc = accuracy_score(y_train, train_pred)\n",
    "\n",
    "# test set acc\n",
    "test_pred = clf.predict(X_test)\n",
    "test_acc = accuracy_score(y_test, test_pred)\n",
    "\n",
    "print(\"Number of Iterations until Convergence:\", num_itr)\n",
    "print(\"Training Set Accuracy:\", train_acc)\n",
    "print(\"Test Set Accuracy:\", test_acc)"
   ]
  }
 ],
 "metadata": {
  "kernelspec": {
   "display_name": "Python 3",
   "language": "python",
   "name": "python3"
  },
  "language_info": {
   "codemirror_mode": {
    "name": "ipython",
    "version": 3
   },
   "file_extension": ".py",
   "mimetype": "text/x-python",
   "name": "python",
   "nbconvert_exporter": "python",
   "pygments_lexer": "ipython3",
   "version": "3.11.6"
  }
 },
 "nbformat": 4,
 "nbformat_minor": 2
}
