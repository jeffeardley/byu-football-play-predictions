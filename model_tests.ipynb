{
 "cells": [
  {
   "cell_type": "code",
   "execution_count": 3,
   "metadata": {
    "ExecuteTime": {
     "end_time": "2023-12-12T07:10:37.351452600Z",
     "start_time": "2023-12-12T07:10:37.331457400Z"
    }
   },
   "outputs": [],
   "source": [
    "import utility as ut\n",
    "import numpy as np\n",
    "from sklearn.preprocessing import LabelEncoder, OneHotEncoder\n",
    "from sklearn.ensemble import RandomForestClassifier\n",
    "from sklearn.model_selection import cross_val_score, train_test_split\n",
    "from sklearn.metrics import accuracy_score, mean_absolute_error, mean_squared_error\n",
    "from sklearn.neural_network import MLPClassifier\n",
    "import xgboost as xgb"
   ]
  },
  {
   "cell_type": "markdown",
   "metadata": {},
   "source": [
    "# Random Forest"
   ]
  },
  {
   "cell_type": "code",
   "execution_count": 4,
   "metadata": {
    "ExecuteTime": {
     "end_time": "2023-12-12T07:10:43.237455300Z",
     "start_time": "2023-12-12T07:10:43.135154Z"
    }
   },
   "outputs": [
    {
     "name": "stderr",
     "output_type": "stream",
     "text": [
      "C:\\Users\\calvi\\anaconda3\\envs\\byu-football-play-predictions\\Lib\\site-packages\\sklearn\\utils\\validation.py:605: FutureWarning: is_sparse is deprecated and will be removed in a future version. Check `isinstance(dtype, pd.SparseDtype)` instead.\n",
      "  if is_sparse(pd_dtype):\n",
      "C:\\Users\\calvi\\anaconda3\\envs\\byu-football-play-predictions\\Lib\\site-packages\\sklearn\\utils\\validation.py:614: FutureWarning: is_sparse is deprecated and will be removed in a future version. Check `isinstance(dtype, pd.SparseDtype)` instead.\n",
      "  if is_sparse(pd_dtype) or not is_extension_array_dtype(pd_dtype):\n"
     ]
    },
    {
     "data": {
      "text/plain": "      Offense Score  Defense Score  Drive Number  Play Number  Period  \\\n0                 0              0             1            4       1   \n1                 0              0             1            5       1   \n2                 0              0             1            6       1   \n3                 0              0             1            7       1   \n4                 0              0             1            8       1   \n...             ...            ...           ...          ...     ...   \n1550             35             20            22            1       4   \n1551             35             20            22            3       4   \n1552             35             20            22            5       4   \n1553             35             20            22            7       4   \n1554             35             27            24            3       4   \n\n      totalseconds  Offense Timeouts  Yards To Goal  Down  Distance  \\\n0              840               3.0             71     3         6   \n1              833               3.0             61     1        10   \n2              827               3.0             61     2        10   \n3              821               3.0             61     3        10   \n4              814               3.0             61     4        10   \n...            ...               ...            ...   ...       ...   \n1550           162              -5.0             36     1        10   \n1551           155              -5.0             37     2        11   \n1552           150              -6.0             38     3        12   \n1553            96              -6.0             42     4        16   \n1554             0              -6.0             45     1        10   \n\n      Play Type  L1 Yards Gained  L2 Yards Gained  L1 Play Type  L2 Play Type  \\\n0             1              4.0              0.0           3.0           1.0   \n1             1             10.0              4.0           1.0           3.0   \n2             1              0.0             10.0           1.0           1.0   \n3             1              0.0              0.0           1.0           1.0   \n4             2              0.0              0.0           1.0           1.0   \n...         ...              ...              ...           ...           ...   \n1550          3             44.0              0.0           0.0           3.0   \n1551          3              1.0             44.0           3.0           0.0   \n1552          3              1.0              1.0           3.0           3.0   \n1553          2              1.0              1.0           3.0           3.0   \n1554          3              0.0              1.0           2.0           3.0   \n\n      L1 Down  L2 Down  L1 Distance  L2 Distance  point diff  \n0         2.0      1.0         10.0         10.0           0  \n1         3.0      2.0          6.0         10.0           0  \n2         1.0      3.0         10.0          6.0           0  \n3         2.0      1.0         10.0         10.0           0  \n4         3.0      2.0         10.0         10.0           0  \n...       ...      ...          ...          ...         ...  \n1550      4.0      3.0         27.0         27.0          15  \n1551      1.0      4.0         10.0         27.0          15  \n1552      2.0      1.0         11.0         10.0          15  \n1553      3.0      2.0         12.0         11.0          15  \n1554      4.0      3.0         16.0         12.0           8  \n\n[1555 rows x 20 columns]",
      "text/html": "<div>\n<style scoped>\n    .dataframe tbody tr th:only-of-type {\n        vertical-align: middle;\n    }\n\n    .dataframe tbody tr th {\n        vertical-align: top;\n    }\n\n    .dataframe thead th {\n        text-align: right;\n    }\n</style>\n<table border=\"1\" class=\"dataframe\">\n  <thead>\n    <tr style=\"text-align: right;\">\n      <th></th>\n      <th>Offense Score</th>\n      <th>Defense Score</th>\n      <th>Drive Number</th>\n      <th>Play Number</th>\n      <th>Period</th>\n      <th>totalseconds</th>\n      <th>Offense Timeouts</th>\n      <th>Yards To Goal</th>\n      <th>Down</th>\n      <th>Distance</th>\n      <th>Play Type</th>\n      <th>L1 Yards Gained</th>\n      <th>L2 Yards Gained</th>\n      <th>L1 Play Type</th>\n      <th>L2 Play Type</th>\n      <th>L1 Down</th>\n      <th>L2 Down</th>\n      <th>L1 Distance</th>\n      <th>L2 Distance</th>\n      <th>point diff</th>\n    </tr>\n  </thead>\n  <tbody>\n    <tr>\n      <th>0</th>\n      <td>0</td>\n      <td>0</td>\n      <td>1</td>\n      <td>4</td>\n      <td>1</td>\n      <td>840</td>\n      <td>3.0</td>\n      <td>71</td>\n      <td>3</td>\n      <td>6</td>\n      <td>1</td>\n      <td>4.0</td>\n      <td>0.0</td>\n      <td>3.0</td>\n      <td>1.0</td>\n      <td>2.0</td>\n      <td>1.0</td>\n      <td>10.0</td>\n      <td>10.0</td>\n      <td>0</td>\n    </tr>\n    <tr>\n      <th>1</th>\n      <td>0</td>\n      <td>0</td>\n      <td>1</td>\n      <td>5</td>\n      <td>1</td>\n      <td>833</td>\n      <td>3.0</td>\n      <td>61</td>\n      <td>1</td>\n      <td>10</td>\n      <td>1</td>\n      <td>10.0</td>\n      <td>4.0</td>\n      <td>1.0</td>\n      <td>3.0</td>\n      <td>3.0</td>\n      <td>2.0</td>\n      <td>6.0</td>\n      <td>10.0</td>\n      <td>0</td>\n    </tr>\n    <tr>\n      <th>2</th>\n      <td>0</td>\n      <td>0</td>\n      <td>1</td>\n      <td>6</td>\n      <td>1</td>\n      <td>827</td>\n      <td>3.0</td>\n      <td>61</td>\n      <td>2</td>\n      <td>10</td>\n      <td>1</td>\n      <td>0.0</td>\n      <td>10.0</td>\n      <td>1.0</td>\n      <td>1.0</td>\n      <td>1.0</td>\n      <td>3.0</td>\n      <td>10.0</td>\n      <td>6.0</td>\n      <td>0</td>\n    </tr>\n    <tr>\n      <th>3</th>\n      <td>0</td>\n      <td>0</td>\n      <td>1</td>\n      <td>7</td>\n      <td>1</td>\n      <td>821</td>\n      <td>3.0</td>\n      <td>61</td>\n      <td>3</td>\n      <td>10</td>\n      <td>1</td>\n      <td>0.0</td>\n      <td>0.0</td>\n      <td>1.0</td>\n      <td>1.0</td>\n      <td>2.0</td>\n      <td>1.0</td>\n      <td>10.0</td>\n      <td>10.0</td>\n      <td>0</td>\n    </tr>\n    <tr>\n      <th>4</th>\n      <td>0</td>\n      <td>0</td>\n      <td>1</td>\n      <td>8</td>\n      <td>1</td>\n      <td>814</td>\n      <td>3.0</td>\n      <td>61</td>\n      <td>4</td>\n      <td>10</td>\n      <td>2</td>\n      <td>0.0</td>\n      <td>0.0</td>\n      <td>1.0</td>\n      <td>1.0</td>\n      <td>3.0</td>\n      <td>2.0</td>\n      <td>10.0</td>\n      <td>10.0</td>\n      <td>0</td>\n    </tr>\n    <tr>\n      <th>...</th>\n      <td>...</td>\n      <td>...</td>\n      <td>...</td>\n      <td>...</td>\n      <td>...</td>\n      <td>...</td>\n      <td>...</td>\n      <td>...</td>\n      <td>...</td>\n      <td>...</td>\n      <td>...</td>\n      <td>...</td>\n      <td>...</td>\n      <td>...</td>\n      <td>...</td>\n      <td>...</td>\n      <td>...</td>\n      <td>...</td>\n      <td>...</td>\n      <td>...</td>\n    </tr>\n    <tr>\n      <th>1550</th>\n      <td>35</td>\n      <td>20</td>\n      <td>22</td>\n      <td>1</td>\n      <td>4</td>\n      <td>162</td>\n      <td>-5.0</td>\n      <td>36</td>\n      <td>1</td>\n      <td>10</td>\n      <td>3</td>\n      <td>44.0</td>\n      <td>0.0</td>\n      <td>0.0</td>\n      <td>3.0</td>\n      <td>4.0</td>\n      <td>3.0</td>\n      <td>27.0</td>\n      <td>27.0</td>\n      <td>15</td>\n    </tr>\n    <tr>\n      <th>1551</th>\n      <td>35</td>\n      <td>20</td>\n      <td>22</td>\n      <td>3</td>\n      <td>4</td>\n      <td>155</td>\n      <td>-5.0</td>\n      <td>37</td>\n      <td>2</td>\n      <td>11</td>\n      <td>3</td>\n      <td>1.0</td>\n      <td>44.0</td>\n      <td>3.0</td>\n      <td>0.0</td>\n      <td>1.0</td>\n      <td>4.0</td>\n      <td>10.0</td>\n      <td>27.0</td>\n      <td>15</td>\n    </tr>\n    <tr>\n      <th>1552</th>\n      <td>35</td>\n      <td>20</td>\n      <td>22</td>\n      <td>5</td>\n      <td>4</td>\n      <td>150</td>\n      <td>-6.0</td>\n      <td>38</td>\n      <td>3</td>\n      <td>12</td>\n      <td>3</td>\n      <td>1.0</td>\n      <td>1.0</td>\n      <td>3.0</td>\n      <td>3.0</td>\n      <td>2.0</td>\n      <td>1.0</td>\n      <td>11.0</td>\n      <td>10.0</td>\n      <td>15</td>\n    </tr>\n    <tr>\n      <th>1553</th>\n      <td>35</td>\n      <td>20</td>\n      <td>22</td>\n      <td>7</td>\n      <td>4</td>\n      <td>96</td>\n      <td>-6.0</td>\n      <td>42</td>\n      <td>4</td>\n      <td>16</td>\n      <td>2</td>\n      <td>1.0</td>\n      <td>1.0</td>\n      <td>3.0</td>\n      <td>3.0</td>\n      <td>3.0</td>\n      <td>2.0</td>\n      <td>12.0</td>\n      <td>11.0</td>\n      <td>15</td>\n    </tr>\n    <tr>\n      <th>1554</th>\n      <td>35</td>\n      <td>27</td>\n      <td>24</td>\n      <td>3</td>\n      <td>4</td>\n      <td>0</td>\n      <td>-6.0</td>\n      <td>45</td>\n      <td>1</td>\n      <td>10</td>\n      <td>3</td>\n      <td>0.0</td>\n      <td>1.0</td>\n      <td>2.0</td>\n      <td>3.0</td>\n      <td>4.0</td>\n      <td>3.0</td>\n      <td>16.0</td>\n      <td>12.0</td>\n      <td>8</td>\n    </tr>\n  </tbody>\n</table>\n<p>1555 rows × 20 columns</p>\n</div>"
     },
     "execution_count": 4,
     "metadata": {},
     "output_type": "execute_result"
    }
   ],
   "source": [
    "# Make dataframe\n",
    "df = ut.make_big_df()\n",
    "df = ut.process(df)\n",
    "df = df.dropna().reset_index(drop=True)\n",
    "\n",
    "X = df.drop(columns=['Play Type']).to_numpy()\n",
    "y = df['Play Type'].to_numpy()\n",
    "df\n"
   ]
  },
  {
   "cell_type": "code",
   "execution_count": 5,
   "metadata": {
    "ExecuteTime": {
     "end_time": "2023-12-12T07:11:01.098139700Z",
     "start_time": "2023-12-12T07:10:54.720709400Z"
    }
   },
   "outputs": [
    {
     "name": "stdout",
     "output_type": "stream",
     "text": [
      "Cross-validation scores: [0.66233766 0.63636364 0.66233766 0.5974026  0.67532468 0.71428571\n",
      " 0.58441558 0.53246753 0.66233766 0.61038961 0.62337662 0.64935065\n",
      " 0.71428571 0.61038961 0.71428571 0.55844156 0.58441558 0.63636364\n",
      " 0.5974026  0.76315789]\n",
      "Mean CV accuracy: 0.6394565960355434\n",
      "rand_forest_mae: 0.0\n",
      "rand_forest_mse: 0.0\n",
      "rand_forest_rmse: 0.0\n"
     ]
    }
   ],
   "source": [
    "# Train random forest\n",
    "X_train, X_test, y_train, y_test = train_test_split(X, y, test_size=0.01)\n",
    "\n",
    "clf = RandomForestClassifier()\n",
    "rand_forest_cv = cross_val_score(clf, X_train, y_train, cv=20)\n",
    "print(\"Cross-validation scores:\", rand_forest_cv)\n",
    "print(\"Mean CV accuracy:\", rand_forest_cv.mean())\n",
    "# Train on all data now that we have done CV\n",
    "clf.fit(X, y)\n",
    "\n",
    "y_pred = clf.predict(X)\n",
    "\n",
    "# Calculate MAE, MSE, and RMSE\n",
    "rand_forest_mae = mean_absolute_error(y, y_pred)\n",
    "rand_forest_mse = mean_squared_error(y, y_pred)\n",
    "rand_forest_rmse = np.sqrt(rand_forest_mse)\n",
    "\n",
    "print(f\"rand_forest_mae: {rand_forest_mae}\")\n",
    "print(f\"rand_forest_mse: {rand_forest_mse}\")\n",
    "print(f\"rand_forest_rmse: {rand_forest_rmse}\")\n",
    "# print(f\"Training accuracy: {clf.score(X_train, y_train)}\")\n",
    "# print(f\"Test accuracy: {clf.score(X_test, y_test)}\")"
   ]
  },
  {
   "cell_type": "code",
   "execution_count": 6,
   "metadata": {
    "ExecuteTime": {
     "end_time": "2023-12-12T07:11:07.965870Z",
     "start_time": "2023-12-12T07:11:01.101607400Z"
    }
   },
   "outputs": [
    {
     "name": "stdout",
     "output_type": "stream",
     "text": [
      "Cross-validation scores: [0.61038961 0.67532468 0.67532468 0.67532468 0.62337662 0.55844156\n",
      " 0.62337662 0.61038961 0.63636364 0.61038961 0.74025974 0.66233766\n",
      " 0.62337662 0.63636364 0.62337662 0.62337662 0.62337662 0.64935065\n",
      " 0.7012987  0.65789474]\n",
      "Mean CV accuracy: 0.6419856459330143\n",
      "norm_rand_forest_mae: 0.0077170418006430866\n",
      "norm_rand_forest_mse: 0.015434083601286173\n",
      "norm_rand_foest_rmse: 0.12423398730333891\n"
     ]
    }
   ],
   "source": [
    "normalized_x = ut.normalize(X)\n",
    "X_train, X_test, y_train, y_test = train_test_split(normalized_x, y, test_size=0.01)\n",
    "\n",
    "norm_clf = RandomForestClassifier()\n",
    "norm_clf.fit(X_train, y_train)\n",
    "\n",
    "norm_rfst_cv = cross_val_score(clf, X_train, y_train, cv=20)\n",
    "print(\"Cross-validation scores:\", norm_rfst_cv)\n",
    "print(\"Mean CV accuracy:\", norm_rfst_cv.mean())\n",
    "\n",
    "# Now train on all of the data\n",
    "clf.fit(normalized_x, y)\n",
    "\n",
    "y_pred = norm_clf.predict(normalized_x)\n",
    "\n",
    "# Calculate MAE, MSE, and RMSE\n",
    "norm_rand_forest_mae = mean_absolute_error(y, y_pred)\n",
    "norm_rand_forest_mse = mean_squared_error(y, y_pred)\n",
    "norm_rand_forest_rmse = np.sqrt(norm_rand_forest_mse)\n",
    "\n",
    "print(f\"norm_rand_forest_mae: {norm_rand_forest_mae}\")\n",
    "print(f\"norm_rand_forest_mse: {norm_rand_forest_mse}\")\n",
    "print(f\"norm_rand_foest_rmse: {norm_rand_forest_rmse}\")\n",
    "\n",
    "# print(f\"Training accuracy: {clf.score(X_train, y_train)}\")\n",
    "# print(f\"Test accuracy: {clf.score(X_test, y_test)}\")"
   ]
  },
  {
   "cell_type": "markdown",
   "metadata": {},
   "source": [
    "# XGBoost"
   ]
  },
  {
   "cell_type": "code",
   "execution_count": 10,
   "metadata": {
    "ExecuteTime": {
     "end_time": "2023-12-12T07:12:01.277178100Z",
     "start_time": "2023-12-12T07:11:59.834113500Z"
    }
   },
   "outputs": [
    {
     "name": "stderr",
     "output_type": "stream",
     "text": [
      "C:\\Users\\calvi\\anaconda3\\envs\\byu-football-play-predictions\\Lib\\site-packages\\sklearn\\utils\\validation.py:605: FutureWarning: is_sparse is deprecated and will be removed in a future version. Check `isinstance(dtype, pd.SparseDtype)` instead.\n",
      "  if is_sparse(pd_dtype):\n",
      "C:\\Users\\calvi\\anaconda3\\envs\\byu-football-play-predictions\\Lib\\site-packages\\sklearn\\utils\\validation.py:614: FutureWarning: is_sparse is deprecated and will be removed in a future version. Check `isinstance(dtype, pd.SparseDtype)` instead.\n",
      "  if is_sparse(pd_dtype) or not is_extension_array_dtype(pd_dtype):\n"
     ]
    }
   ],
   "source": [
    "df = ut.make_big_df()\n",
    "df = ut.process(df)\n",
    "\n",
    "X = df.drop(columns=['Play Type']).to_numpy()\n",
    "y = df['Play Type'].to_numpy()\n",
    "\n",
    "X_train, X_test, y_train, y_test = train_test_split(X, y, test_size=0.2)\n",
    "\n",
    "dtrain = xgb.DMatrix(X_train, label=y_train)\n",
    "dtest = xgb.DMatrix(X_test)\n",
    "\n",
    "params = {\n",
    "    'eta': 0.1,\n",
    "    'objective': 'multi:softmax',\n",
    "    'num_class': 4\n",
    "}\n",
    "num_boost_round = 50\n",
    "bst = xgb.train(params, dtrain, num_boost_round)\n",
    "\n",
    "cv_results = xgb.cv(\n",
    "    params,\n",
    "    dtrain,\n",
    "    num_boost_round=num_boost_round,\n",
    "    nfold=20,\n",
    "    metrics={'merror'},  # You can use other evaluation metrics\n",
    "    early_stopping_rounds=10\n",
    ")\n",
    "\n",
    "\n",
    "best_num_boost_round = cv_results.shape[0]\n",
    "# Train the model on the entire dataset\n",
    "final_model = xgb.train(params, xgb.DMatrix(X, label=y), num_boost_round=best_num_boost_round)\n",
    "xgb_cv_accuracy = 1 - cv_results['test-merror-mean'].mean()\n",
    "\n",
    "\n",
    "y_pred = bst.predict(xgb.DMatrix(X))\n",
    "\n",
    "\n",
    "xgb_mae = mean_absolute_error(y, y_pred)\n",
    "xgb_mse = mean_squared_error(y, y_pred)\n",
    "xgb_rmse = np.sqrt(norm_rand_forest_mse)\n",
    "\n",
    "\n",
    "# accuracy = accuracy_score(y_test, y_pred)\n",
    "# print(\"Accuracy: %.2f%%\" % (accuracy * 100.0))"
   ]
  },
  {
   "cell_type": "code",
   "execution_count": 11,
   "metadata": {
    "ExecuteTime": {
     "end_time": "2023-12-12T07:12:06.012017400Z",
     "start_time": "2023-12-12T07:12:04.666703800Z"
    }
   },
   "outputs": [
    {
     "name": "stderr",
     "output_type": "stream",
     "text": [
      "C:\\Users\\calvi\\anaconda3\\envs\\byu-football-play-predictions\\Lib\\site-packages\\sklearn\\utils\\validation.py:605: FutureWarning: is_sparse is deprecated and will be removed in a future version. Check `isinstance(dtype, pd.SparseDtype)` instead.\n",
      "  if is_sparse(pd_dtype):\n",
      "C:\\Users\\calvi\\anaconda3\\envs\\byu-football-play-predictions\\Lib\\site-packages\\sklearn\\utils\\validation.py:614: FutureWarning: is_sparse is deprecated and will be removed in a future version. Check `isinstance(dtype, pd.SparseDtype)` instead.\n",
      "  if is_sparse(pd_dtype) or not is_extension_array_dtype(pd_dtype):\n"
     ]
    }
   ],
   "source": [
    "df = ut.make_big_df()\n",
    "df = ut.process(df)\n",
    "\n",
    "X = df.drop(columns=['Play Type']).to_numpy()\n",
    "y = df['Play Type'].to_numpy()\n",
    "normalized_x = ut.normalize(X)\n",
    "\n",
    "X_train, X_test, y_train, y_test = train_test_split(normalized_x, y, test_size=0.2)\n",
    "\n",
    "dtrain = xgb.DMatrix(X_train, label=y_train)\n",
    "dtest = xgb.DMatrix(X_test)\n",
    "\n",
    "params = {\n",
    "    'eta': 0.1,\n",
    "    'objective': 'multi:softmax',\n",
    "    'num_class': 4\n",
    "}\n",
    "num_boost_round = 50\n",
    "bst = xgb.train(params, dtrain, num_boost_round)\n",
    "\n",
    "cv_results = xgb.cv(\n",
    "    params,\n",
    "    dtrain,\n",
    "    num_boost_round=num_boost_round,\n",
    "    nfold=20,\n",
    "    metrics={'merror'},  # You can use other evaluation metrics\n",
    "    early_stopping_rounds=10\n",
    ")\n",
    "\n",
    "\n",
    "best_num_boost_round = cv_results.shape[0]\n",
    "# Train the model on the entire dataset\n",
    "final_model = xgb.train(params, xgb.DMatrix(X, label=y), num_boost_round=best_num_boost_round)\n",
    "norm_xgb_cv_accuracy = 1 - cv_results['test-merror-mean'].mean()\n",
    "\n",
    "\n",
    "y_pred = bst.predict(xgb.DMatrix(X))\n",
    "\n",
    "\n",
    "norm_xgb_mae = mean_absolute_error(y, y_pred)\n",
    "norm_xgb_mse = mean_squared_error(y, y_pred)\n",
    "norm_xgb_rmse = np.sqrt(norm_rand_forest_mse)"
   ]
  },
  {
   "cell_type": "markdown",
   "metadata": {},
   "source": [
    "# MLPs"
   ]
  },
  {
   "cell_type": "code",
   "execution_count": null,
   "metadata": {
    "ExecuteTime": {
     "start_time": "2023-12-12T06:56:20.032510600Z"
    }
   },
   "outputs": [],
   "source": [
    "# load in data\n",
    "df = ut.make_big_df()\n",
    "df = ut.process(df)\n",
    "df = df.dropna().reset_index(drop=True)\n",
    "\n",
    "X = df.drop(columns=['Play Type']).to_numpy()\n",
    "y = df['Play Type'].to_numpy()\n",
    "\n",
    "X_train, X_test, y_train, y_test = train_test_split(X, y, test_size=0.2)\n",
    "\n",
    "# make model\n",
    "mlp = MLPClassifier(hidden_layer_sizes=[10], activation='logistic', solver='sgd',\n",
    "                    alpha=0, batch_size=1, learning_rate_init=.01, shuffle=True,\n",
    "                    momentum=0, n_iter_no_change=50, max_iter=1000)\n",
    "# mlp.fit(X_train, y_train)\n",
    "\n",
    "mlp_cv = cross_val_score(mlp, X, y, cv=5)\n",
    "print(\"Cross-validation scores:\", mlp_cv)\n",
    "print(\"Mean CV accuracy:\", mlp_cv.mean())\n",
    "\n",
    "# Now train on all data\n",
    "mlp.fit(X, y)\n",
    "\n",
    "y_pred = mlp.predict(X)\n",
    "mlp_mae = mean_absolute_error(y, y_pred)\n",
    "mlp_mse = mean_squared_error(y, y_pred)\n",
    "mlp_rmse = np.sqrt(mlp_mse)\n",
    "\n",
    "print(f'mlp_mae: {mlp_mae}')\n",
    "print(f'mlp_mse: {mlp_mse}')\n",
    "print(f'mlp_rmse: {mlp_rmse}')\n",
    "\n",
    "num_itr = mlp.n_iter_\n",
    "\n",
    "# training set acc\n",
    "train_pred = mlp.predict(X_train)\n",
    "# train_acc = accuracy_score(y_train, train_pred)\n",
    "# train_acc = mlp.score(X_train, y_train)\n",
    "\n",
    "# test set acc\n",
    "test_pred = mlp.predict(X_test)\n",
    "# test_acc = accuracy_score(y_test, test_pred)\n",
    "test_acc = mlp.score(X_test, y_test)\n",
    "\n",
    "print(\"Number of Iterations until Convergence:\", num_itr)\n",
    "# print(\"Training Set Accuracy:\", train_acc)\n",
    "# print(\"Test Set Accuracy:\", test_acc)"
   ]
  },
  {
   "cell_type": "code",
   "execution_count": null,
   "metadata": {
    "ExecuteTime": {
     "end_time": "2023-12-12T06:56:20.034511400Z",
     "start_time": "2023-12-12T06:56:20.034511400Z"
    }
   },
   "outputs": [],
   "source": [
    "# make model\n",
    "mlp = MLPClassifier(hidden_layer_sizes=[10], activation='logistic', solver='sgd',\n",
    "                    alpha=0, batch_size=1, learning_rate_init=.01, shuffle=True,\n",
    "                    momentum=0, n_iter_no_change=50, max_iter=1000)\n",
    "# mlp.fit(X_train, y_train)\n",
    "\n",
    "normalized_x = ut.normalize(X)\n",
    "norm_mlp_cv = cross_val_score(mlp, normalized_x, y, cv=5)\n",
    "print(\"Cross-validation scores:\", mlp_cv)\n",
    "print(\"Mean CV accuracy:\", norm_mlp_cv.mean())\n",
    "\n",
    "# Now train on all data\n",
    "mlp.fit(normalized_x, y)\n",
    "\n",
    "y_pred = mlp.predict(normalized_x)\n",
    "norm_mlp_mae = mean_absolute_error(y, y_pred)\n",
    "norm_mlp_mse = mean_squared_error(y, y_pred)\n",
    "norm_mlp_rmse = np.sqrt(norm_mlp_mse)\n",
    "\n",
    "print(f\"norm_mlp_mae: {norm_mlp_mae}\")\n",
    "print(f\"norm_mlp_mse: {norm_mlp_mse}\")\n",
    "print(f\"norm_mlp_rmse: {norm_mlp_rmse}\")"
   ]
  },
  {
   "cell_type": "code",
   "execution_count": null,
   "metadata": {
    "ExecuteTime": {
     "end_time": "2023-12-12T06:56:20.036510400Z",
     "start_time": "2023-12-12T06:56:20.035511400Z"
    }
   },
   "outputs": [],
   "source": [
    "mlp.score(X_train, y_train)"
   ]
  },
  {
   "cell_type": "markdown",
   "metadata": {},
   "source": [
    "# Tables and Charts and Other Pretty Stuff"
   ]
  },
  {
   "cell_type": "code",
   "execution_count": 15,
   "metadata": {
    "ExecuteTime": {
     "end_time": "2023-12-12T07:13:17.881758200Z",
     "start_time": "2023-12-12T07:13:17.858832Z"
    }
   },
   "outputs": [
    {
     "name": "stdout",
     "output_type": "stream",
     "text": [
      "+----------------------------+---------------------+--------+--------+--------+\n",
      "|           Model            | CV Average Accuracy |  MAE   |  MSE   |  RMSE  |\n",
      "+----------------------------+---------------------+--------+--------+--------+\n",
      "|       Random Forest        |       0.6395        |  0.0   |  0.0   |  0.0   |\n",
      "| Random Forest (normalized) |        0.642        | 0.0077 | 0.0154 | 0.1242 |\n",
      "|          XGBoost           |       0.6524        | 0.2793 | 0.5537 | 0.1242 |\n",
      "+----------------------------+---------------------+--------+--------+--------+\n"
     ]
    }
   ],
   "source": [
    "from tabulate import tabulate\n",
    "\n",
    "clf_stats = {\n",
    "    'Model': 'Random Forest',\n",
    "    'CV Average Accuracy': round(rand_forest_cv.mean(), 4),\n",
    "    'MAE': round(rand_forest_mae, 4),\n",
    "    'MSE': round(rand_forest_mse, 4),\n",
    "    'RMSE': round(rand_forest_rmse, 4)\n",
    "}\n",
    "\n",
    "norm_clf_stats = {\n",
    "    'Model': 'Random Forest (normalized)',\n",
    "    'CV Average Accuracy': round(norm_rfst_cv.mean(), 4),\n",
    "    'MAE': round(norm_rand_forest_mae, 4),\n",
    "    'MSE': round(norm_rand_forest_mse, 4),\n",
    "    'RMSE': round(norm_rand_forest_rmse, 4)\n",
    "}\n",
    "\n",
    "bst_stats = {\n",
    "    'Model': 'XGBoost',\n",
    "    'CV Average Accuracy': round(xgb_cv_accuracy, 4),\n",
    "    'MAE': round(xgb_mae, 4),\n",
    "    'MSE': round(xgb_mse, 4),\n",
    "    'RMSE': round(xgb_rmse, 4)\n",
    "}\n",
    "\n",
    "norm_xgb_cv_accuracy\n",
    "norm_bst_stats = {\n",
    "    'Model': 'XGBoost (Normalized Inputs)',\n",
    "    'CV Average Accuracy': round(xgb_cv_accuracy, 4),\n",
    "    'MAE': round(xgb_mae, 4),\n",
    "    'MSE': round(xgb_mse, 4),\n",
    "    'RMSE': round(xgb_rmse, 4)\n",
    "}\n",
    "\n",
    "mlp_stats = {\n",
    "    'Model': 'Multi-layer Perceptron',\n",
    "    'CV Average Accuracy': round(mlp_cv.mean(), 4),\n",
    "    'MAE': round(mlp_mae, 4),\n",
    "    'MSE': round(mlp_mse, 4),\n",
    "    'RMSE': round(mlp_rmse, 4)\n",
    "}\n",
    "\n",
    "norm_mlp_stats = {\n",
    "    'Model': 'Multi-layer Perceptron (Normalized Inputs)',\n",
    "    'CV Average Accuracy': round(norm_mlp_cv.mean(), 4),\n",
    "    'MAE': round(norm_mlp_mae, 4),\n",
    "    'MSE': round(norm_mlp_mse, 4),\n",
    "    'RMSE': round(norm_mlp_rmse, 4)\n",
    "}\n",
    "\n",
    "\n",
    "\n",
    "# Combine the stats into a list for tabulate\n",
    "all_stats = [mlp_stats, norm_mlp_stats, clf_stats, norm_clf_stats, bst_stats]\n",
    "\n",
    "# Create a table\n",
    "table = tabulate(all_stats, headers=\"keys\", tablefmt=\"pretty\")\n",
    "print(table)"
   ]
  },
  {
   "cell_type": "code",
   "execution_count": null,
   "metadata": {
    "ExecuteTime": {
     "start_time": "2023-12-12T06:56:20.037510300Z"
    }
   },
   "outputs": [],
   "source": []
  }
 ],
 "metadata": {
  "kernelspec": {
   "display_name": "Python 3",
   "language": "python",
   "name": "python3"
  },
  "language_info": {
   "codemirror_mode": {
    "name": "ipython",
    "version": 3
   },
   "file_extension": ".py",
   "mimetype": "text/x-python",
   "name": "python",
   "nbconvert_exporter": "python",
   "pygments_lexer": "ipython3",
   "version": "3.12.0"
  }
 },
 "nbformat": 4,
 "nbformat_minor": 2
}
