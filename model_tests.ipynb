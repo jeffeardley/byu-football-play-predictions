{
 "cells": [
  {
   "cell_type": "code",
   "execution_count": 7,
   "metadata": {},
   "outputs": [],
   "source": [
    "import utility as ut\n",
    "import numpy as np\n",
    "import random as random\n",
    "from sklearn.preprocessing import LabelEncoder, OneHotEncoder\n",
    "from sklearn.ensemble import RandomForestClassifier\n",
    "from sklearn.model_selection import train_test_split\n",
    "from sklearn.metrics import accuracy_score\n",
    "from sklearn.neural_network import MLPClassifier"
   ]
  },
  {
   "cell_type": "code",
   "execution_count": 56,
   "metadata": {},
   "outputs": [],
   "source": [
    "# TODO: Process data\n",
    "# This is easy with dataframes. Pick out what features we wanna use, make sure they are numerical, scale (if necessary)\n",
    "# Then just pick out the features and go .to_numpy() and then our y values .to_numpy() and we're ready to train"
   ]
  },
  {
   "cell_type": "code",
   "execution_count": 85,
   "metadata": {},
   "outputs": [],
   "source": [
    "def process(df):\n",
    "    \n",
    "\n",
    "    # Filter the DataFrame\n",
    "    keep_play_types = ['Rush', 'Pass', 'Rushing Touchdown', 'Pass Reception', 'Pass Incompletion',\n",
    "                            'Passing Touchdown', 'Pass Interception Return', 'Punt', 'Interception', \n",
    "                            'Field Goal Good', 'Field Goal Missed']\n",
    "    df = df[df['Play Type'].isin(keep_play_types)]\n",
    "\n",
    "    # Simplify play types\n",
    "    play_type_mapping = {\n",
    "        'Rushing Touchdown': 'Rush',\n",
    "        'Pass Reception': 'Pass',\n",
    "        'Pass Incompletion': 'Pass',\n",
    "        'Passing Touchdown': 'Pass',\n",
    "        'Pass Interception Return': 'Pass',\n",
    "        'Interception': 'Pass',\n",
    "        'Field Goal Good': 'Field Goal',\n",
    "        'Field Goal Missed': 'Field Goal'\n",
    "    }\n",
    "    df = df.replace(play_type_mapping)\n",
    "\n",
    "    # Add some useful variables\n",
    "    df['run'] = np.where(df['Play Type'].str.contains('Rush'), 1, 0)\n",
    "    df['pass'] = np.where(df['Play Type'].str.contains('Pass'), 1, 0)\n",
    "    df['Scoring'] = df['Scoring'].astype(int)\n",
    "    df['totalseconds'] = (df['Clock Minutes'] * 60) + df['Clock Seconds']\n",
    "    df[['Clock Minutes', 'Clock Seconds']]\n",
    "    df[['Clock Minutes', 'Clock Seconds', 'totalseconds']]\n",
    "    df['pointsscored'] = df['Offense Score'] + df['Defense Score']\n",
    "    df[['Offense Score', 'Defense Score', 'pointsscored']]\n",
    "    df['pointsscored'] = df['Offense Score'] + df['Defense Score']\n",
    "    \n",
    "    # Make lagged variables\n",
    "    df['L1 Play Yards'] = df.groupby('Game Id')['Yards Gained'].shift()\n",
    "    df['L2 Play Yards'] = df.groupby('Game Id')['Yards Gained'].shift(2)\n",
    "    df['L1 Yards Gained'] = df.groupby('Game Id')['Yards Gained'].shift()\n",
    "    df['L2 Yards Gained'] = df.groupby('Game Id')['Yards Gained'].shift(2)\n",
    "    df['L1 Play Type'] = df.groupby('Game Id')['Play Type'].shift()\n",
    "    df['L2 Play Type'] = df.groupby('Game Id')['Play Type'].shift(2)\n",
    "    df['L1 Down'] = df.groupby('Game Id')['Down'].shift()\n",
    "    df['L2 Down'] = df.groupby('Game Id')['Down'].shift(2)\n",
    "    df['L1 Distance'] = df.groupby('Game Id')['Distance'].shift()\n",
    "    df['L2 Distance'] = df.groupby('Game Id')['Distance'].shift(2)\n",
    "\n",
    "    key_features = ['Offense Score', 'Defense Score', 'Drive Number', 'Play Number', 'Period', 'totalseconds', \n",
    "                'Offense Timeouts', 'Yard Line', 'Yards To Goal', 'Down', 'Distance', 'L1 Play Yards', 'L2 Play Yards',\n",
    "                'Play Type', 'L1 Yards Gained', 'L2 Yards Gained', 'L1 Play Type', 'L2 Play Type', 'L1 Down', \n",
    "                'L2 Down', 'L1 Distance', 'L1 Distance']\n",
    "    \n",
    "    # Encode categorical columns\n",
    "    columns_to_encode = ['Play Type', 'L1 Play Type', 'L2 Play Type']\n",
    "    label_encoder = LabelEncoder()\n",
    "    \n",
    "    df[columns_to_encode] = df[columns_to_encode].apply(lambda col: label_encoder.fit_transform(col))\n",
    "\n",
    "\n",
    "    return df[key_features]"
   ]
  },
  {
   "cell_type": "code",
   "execution_count": 87,
   "metadata": {},
   "outputs": [],
   "source": [
    "df = ut.make_big_df()\n",
    "df = process(df)\n",
    "df.to_csv('all.csv')"
   ]
  },
  {
   "cell_type": "code",
   "execution_count": 61,
   "metadata": {},
   "outputs": [
    {
     "data": {
      "text/plain": [
       "Play Type\n",
       "Rush                          252\n",
       "Pass Reception                167\n",
       "Pass Incompletion              98\n",
       "Penalty                        39\n",
       "Timeout                        34\n",
       "Kickoff                        33\n",
       "Punt                           29\n",
       "Passing Touchdown              22\n",
       "Kickoff Return (Offense)       17\n",
       "Rushing Touchdown              11\n",
       "End Period                     10\n",
       "Sack                            9\n",
       "End of Half                     7\n",
       "Field Goal Good                 7\n",
       "Field Goal Missed               5\n",
       "End of Game                     5\n",
       "Fumble Recovery (Own)           4\n",
       "Pass Interception Return        2\n",
       "Fumble Recovery (Opponent)      2\n",
       "Kickoff Return Touchdown        1\n",
       "Interception                    1\n",
       "Safety                          1\n",
       "Name: count, dtype: int64"
      ]
     },
     "execution_count": 61,
     "metadata": {},
     "output_type": "execute_result"
    }
   ],
   "source": [
    "df = ut.make_big_df()\n",
    "# df['run'] = np.where(df['Play Type'].str.contains('Rush'), 1, 0)\n",
    "# df['pass'] = np.where(df['Play Type'].str.contains('Pass'), 1, 0)\n",
    "# df['Scoring'] = df['Scoring'].astype(int)\n",
    "\n",
    "df[['Clock Minutes', 'Clock Seconds']]\n",
    "df['totalseconds'] = (df['Clock Minutes'] * 60) + df['Clock Seconds']\n",
    "df[['Clock Minutes', 'Clock Seconds', 'totalseconds']]\n",
    "df['pointsscored'] = df['Offense Score'] + df['Defense Score']\n",
    "df[['Offense Score', 'Defense Score', 'pointsscored']]\n",
    "df['L1 Yards Gained'] = df.groupby('Game Id')['Yards Gained'].shift()\n",
    "df['L2 Yards Gained'] = df.groupby('Game Id')['Yards Gained'].shift(2)\n",
    "df['L1 Play Type'] = df.groupby('Game Id')['Play Type'].shift()\n",
    "df['L2 Play Type'] = df.groupby('Game Id')['Play Type'].shift(2)\n",
    "df['L1 Down'] = df.groupby('Game Id')['Down'].shift()\n",
    "df['L2 Down'] = df.groupby('Game Id')['Down'].shift(2)\n",
    "df['L1 Down'] = df.groupby('Game Id')['Distance'].shift()\n",
    "df['L2 Down'] = df.groupby('Game Id')['Distance'].shift(2)\n",
    "# Down and distance from prev play\n",
    "df['Play Type'].value_counts()"
   ]
  },
  {
   "cell_type": "code",
   "execution_count": 58,
   "metadata": {},
   "outputs": [],
   "source": [
    "key_features = ['Offense Score', 'Defense Score', 'Drive Number', 'Play Number', 'Period', 'totalseconds', \n",
    "                'Offense Timeouts', 'Yard Line', 'Yards To Goal', 'Down', 'Distance', 'Previous Play Yards', \n",
    "                'Play Type']\n",
    "\n",
    "\n",
    "# Filter the DataFrame\n",
    "keep_play_types = ['Rush', 'Pass', 'Rushing Touchdown', 'Pass Reception', 'Pass Incompletion',\n",
    "                           'Passing Touchdown', 'Pass Interception Return']\n",
    "df = df[df['Play Type'].isin(keep_play_types)]\n",
    "\n",
    "play_type_mapping = {\n",
    "    'Rushing Touchdown': 'Rush',\n",
    "    'Pass Reception': 'Pass',\n",
    "    'Pass Incompletion': 'Pass',\n",
    "    'Passing Touchdown': 'Pass',\n",
    "    'Pass Interception Return': 'Pass'\n",
    "}\n",
    "\n",
    "df = df.replace(play_type_mapping)\n",
    "df['Play Type'] = LabelEncoder().fit_transform(df['Play Type'])\n",
    "\n",
    "\n",
    "df = df[key_features]\n",
    "# df = df.dropna()\n",
    "X = df.drop(columns=['Play Type']).to_numpy()\n",
    "y = df['Play Type'].to_numpy()"
   ]
  },
  {
   "cell_type": "code",
   "execution_count": 59,
   "metadata": {},
   "outputs": [],
   "source": [
    "# TODO: Train models\n",
    "# Also pretty easy, just input the stuff, tweak hyperparameters (grid search baby) and set that beast loose"
   ]
  },
  {
   "cell_type": "code",
   "execution_count": 60,
   "metadata": {},
   "outputs": [
    {
     "name": "stdout",
     "output_type": "stream",
     "text": [
      "Training accuracy: 1.0\n",
      "Test accuracy: 0.5185185185185185\n"
     ]
    }
   ],
   "source": [
    "X_train, X_test, y_train, y_test = train_test_split(X, y, test_size=0.2)\n",
    "\n",
    "clf = RandomForestClassifier()\n",
    "clf.fit(X_train, y_train)\n",
    "\n",
    "print(f\"Training accuracy: {clf.score(X_train, y_train)}\")\n",
    "print(f\"Test accuracy: {clf.score(X_test, y_test)}\")"
   ]
  },
  {
   "cell_type": "code",
   "execution_count": null,
   "metadata": {},
   "outputs": [],
   "source": []
  },
  {
   "cell_type": "markdown",
   "metadata": {},
   "source": [
    "# Ensemble of MLPs with boosting"
   ]
  },
  {
   "cell_type": "markdown",
   "metadata": {},
   "source": [
    "# "
   ]
  },
  {
   "cell_type": "code",
   "execution_count": 11,
   "metadata": {},
   "outputs": [
    {
     "ename": "AttributeError",
     "evalue": "module 'utility' has no attribute 'process'",
     "output_type": "error",
     "traceback": [
      "\u001b[0;31m---------------------------------------------------------------------------\u001b[0m",
      "\u001b[0;31mAttributeError\u001b[0m                            Traceback (most recent call last)",
      "\u001b[1;32m/Users/nkroberts/school/fall2023/cs270/byu-football-play-predictions/model_tests.ipynb Cell 12\u001b[0m line \u001b[0;36m3\n\u001b[1;32m      <a href='vscode-notebook-cell:/Users/nkroberts/school/fall2023/cs270/byu-football-play-predictions/model_tests.ipynb#X26sZmlsZQ%3D%3D?line=0'>1</a>\u001b[0m \u001b[39m# load in data\u001b[39;00m\n\u001b[1;32m      <a href='vscode-notebook-cell:/Users/nkroberts/school/fall2023/cs270/byu-football-play-predictions/model_tests.ipynb#X26sZmlsZQ%3D%3D?line=1'>2</a>\u001b[0m df \u001b[39m=\u001b[39m ut\u001b[39m.\u001b[39mmake_big_df()\n\u001b[0;32m----> <a href='vscode-notebook-cell:/Users/nkroberts/school/fall2023/cs270/byu-football-play-predictions/model_tests.ipynb#X26sZmlsZQ%3D%3D?line=2'>3</a>\u001b[0m df \u001b[39m=\u001b[39m ut\u001b[39m.\u001b[39;49mprocess(df)\n\u001b[1;32m      <a href='vscode-notebook-cell:/Users/nkroberts/school/fall2023/cs270/byu-football-play-predictions/model_tests.ipynb#X26sZmlsZQ%3D%3D?line=4'>5</a>\u001b[0m X \u001b[39m=\u001b[39m df\u001b[39m.\u001b[39mdrop(columns\u001b[39m=\u001b[39m[\u001b[39m'\u001b[39m\u001b[39mPlay Type\u001b[39m\u001b[39m'\u001b[39m])\u001b[39m.\u001b[39mto_numpy()\n\u001b[1;32m      <a href='vscode-notebook-cell:/Users/nkroberts/school/fall2023/cs270/byu-football-play-predictions/model_tests.ipynb#X26sZmlsZQ%3D%3D?line=5'>6</a>\u001b[0m y \u001b[39m=\u001b[39m df[\u001b[39m'\u001b[39m\u001b[39mPlay Type\u001b[39m\u001b[39m'\u001b[39m]\u001b[39m.\u001b[39mto_numpy()\n",
      "\u001b[0;31mAttributeError\u001b[0m: module 'utility' has no attribute 'process'"
     ]
    }
   ],
   "source": [
    "# load in data\n",
    "df = ut.make_big_df()\n",
    "df = ut.process(df)\n",
    "\n",
    "X = df.drop(columns=['Play Type']).to_numpy()\n",
    "y = df['Play Type'].to_numpy()\n",
    "\n",
    "X_train, X_test, y_train, y_test = train_test_split(X, y, test_size=0.2,\n",
    "                                                    random_state=random.randint(1, 20))\n",
    "\n",
    "# make model\n",
    "mlp = MLPClassifier(hidden_layer_sizes=[20], activation='logistic', solver='sgd',\n",
    "                    alpha=0, batch_size=1, learning_rate_init=.01, shuffle=True,\n",
    "                    momentum=0, n_iter_no_change=50, max_iter=1000)\n",
    "clf = mlp.fit(X_train, y_train)\n",
    "\n",
    "num_itr = clf.n_iter_\n",
    "\n",
    "# training set acc\n",
    "train_pred = clf.predict(X_train)\n",
    "train_acc = accuracy_score(y_train, train_pred)\n",
    "\n",
    "# test set acc\n",
    "test_pred = clf.predict(X_test)\n",
    "test_acc = accuracy_score(y_test, test_pred)\n",
    "\n",
    "print(\"Number of Iterations until Convergence:\", num_itr)\n",
    "print(\"Training Set Accuracy:\", train_acc)\n",
    "print(\"Test Set Accuracy:\", test_acc)"
   ]
  }
 ],
 "metadata": {
  "kernelspec": {
   "display_name": "Python 3",
   "language": "python",
   "name": "python3"
  },
  "language_info": {
   "codemirror_mode": {
    "name": "ipython",
    "version": 3
   },
   "file_extension": ".py",
   "mimetype": "text/x-python",
   "name": "python",
   "nbconvert_exporter": "python",
   "pygments_lexer": "ipython3",
   "version": "3.11.6"
  }
 },
 "nbformat": 4,
 "nbformat_minor": 2
}
