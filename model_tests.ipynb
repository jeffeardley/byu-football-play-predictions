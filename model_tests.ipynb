{
 "cells": [
  {
   "cell_type": "code",
   "execution_count": 73,
   "metadata": {},
   "outputs": [],
   "source": [
    "import utility as ut\n",
    "import numpy as np\n",
    "from sklearn.preprocessing import LabelEncoder, OneHotEncoder\n",
    "from sklearn.ensemble import RandomForestClassifier\n",
    "from sklearn.model_selection import train_test_split"
   ]
  },
  {
   "cell_type": "code",
   "execution_count": 56,
   "metadata": {},
   "outputs": [],
   "source": [
    "# TODO: Process data\n",
    "# This is easy with dataframes. Pick out what features we wanna use, make sure they are numerical, scale (if necessary)\n",
    "# Then just pick out the features and go .to_numpy() and then our y values .to_numpy() and we're ready to train"
   ]
  },
  {
   "cell_type": "code",
   "execution_count": 85,
   "metadata": {},
   "outputs": [],
   "source": [
    "def process(df):\n",
    "    \n",
    "\n",
    "    # Filter the DataFrame\n",
    "    keep_play_types = ['Rush', 'Pass', 'Rushing Touchdown', 'Pass Reception', 'Pass Incompletion',\n",
    "                            'Passing Touchdown', 'Pass Interception Return', 'Punt', 'Interception', \n",
    "                            'Field Goal Good', 'Field Goal Missed']\n",
    "    df = df[df['Play Type'].isin(keep_play_types)]\n",
    "\n",
    "    # Simplify play types\n",
    "    play_type_mapping = {\n",
    "        'Rushing Touchdown': 'Rush',\n",
    "        'Pass Reception': 'Pass',\n",
    "        'Pass Incompletion': 'Pass',\n",
    "        'Passing Touchdown': 'Pass',\n",
    "        'Pass Interception Return': 'Pass',\n",
    "        'Interception': 'Pass',\n",
    "        'Field Goal Good': 'Field Goal',\n",
    "        'Field Goal Missed': 'Field Goal'\n",
    "    }\n",
    "    df = df.replace(play_type_mapping)\n",
    "\n",
    "    # Add some useful variables\n",
    "    df['run'] = np.where(df['Play Type'].str.contains('Rush'), 1, 0)\n",
    "    df['pass'] = np.where(df['Play Type'].str.contains('Pass'), 1, 0)\n",
    "    df['Scoring'] = df['Scoring'].astype(int)\n",
    "    df['totalseconds'] = (df['Clock Minutes'] * 60) + df['Clock Seconds']\n",
    "    df[['Clock Minutes', 'Clock Seconds']]\n",
    "    df[['Clock Minutes', 'Clock Seconds', 'totalseconds']]\n",
    "    df['pointsscored'] = df['Offense Score'] + df['Defense Score']\n",
    "    df[['Offense Score', 'Defense Score', 'pointsscored']]\n",
    "    df['pointsscored'] = df['Offense Score'] + df['Defense Score']\n",
    "    \n",
    "    # Make lagged variables\n",
    "    df['L1 Play Yards'] = df.groupby('Game Id')['Yards Gained'].shift()\n",
    "    df['L2 Play Yards'] = df.groupby('Game Id')['Yards Gained'].shift(2)\n",
    "    df['L1 Yards Gained'] = df.groupby('Game Id')['Yards Gained'].shift()\n",
    "    df['L2 Yards Gained'] = df.groupby('Game Id')['Yards Gained'].shift(2)\n",
    "    df['L1 Play Type'] = df.groupby('Game Id')['Play Type'].shift()\n",
    "    df['L2 Play Type'] = df.groupby('Game Id')['Play Type'].shift(2)\n",
    "    df['L1 Down'] = df.groupby('Game Id')['Down'].shift()\n",
    "    df['L2 Down'] = df.groupby('Game Id')['Down'].shift(2)\n",
    "    df['L1 Distance'] = df.groupby('Game Id')['Distance'].shift()\n",
    "    df['L2 Distance'] = df.groupby('Game Id')['Distance'].shift(2)\n",
    "\n",
    "    key_features = ['Offense Score', 'Defense Score', 'Drive Number', 'Play Number', 'Period', 'totalseconds', \n",
    "                'Offense Timeouts', 'Yard Line', 'Yards To Goal', 'Down', 'Distance', 'L1 Play Yards', 'L2 Play Yards',\n",
    "                'Play Type', 'L1 Yards Gained', 'L2 Yards Gained', 'L1 Play Type', 'L2 Play Type', 'L1 Down', \n",
    "                'L2 Down', 'L1 Distance', 'L1 Distance']\n",
    "    \n",
    "    # Encode categorical columns\n",
    "    columns_to_encode = ['Play Type', 'L1 Play Type', 'L2 Play Type']\n",
    "    label_encoder = LabelEncoder()\n",
    "    \n",
    "    df[columns_to_encode] = df[columns_to_encode].apply(lambda col: label_encoder.fit_transform(col))\n",
    "\n",
    "\n",
    "    return df[key_features]"
   ]
  },
  {
   "cell_type": "code",
   "execution_count": 87,
   "metadata": {},
   "outputs": [],
   "source": [
    "df = ut.make_big_df()\n",
    "df = process(df)\n",
    "df.to_csv('all.csv')"
   ]
  },
  {
   "cell_type": "code",
   "execution_count": 61,
   "metadata": {},
   "outputs": [
    {
     "data": {
      "text/plain": [
       "Play Type\n",
       "Rush                          252\n",
       "Pass Reception                167\n",
       "Pass Incompletion              98\n",
       "Penalty                        39\n",
       "Timeout                        34\n",
       "Kickoff                        33\n",
       "Punt                           29\n",
       "Passing Touchdown              22\n",
       "Kickoff Return (Offense)       17\n",
       "Rushing Touchdown              11\n",
       "End Period                     10\n",
       "Sack                            9\n",
       "End of Half                     7\n",
       "Field Goal Good                 7\n",
       "Field Goal Missed               5\n",
       "End of Game                     5\n",
       "Fumble Recovery (Own)           4\n",
       "Pass Interception Return        2\n",
       "Fumble Recovery (Opponent)      2\n",
       "Kickoff Return Touchdown        1\n",
       "Interception                    1\n",
       "Safety                          1\n",
       "Name: count, dtype: int64"
      ]
     },
     "execution_count": 61,
     "metadata": {},
     "output_type": "execute_result"
    }
   ],
   "source": [
    "df = ut.make_big_df()\n",
    "# df['run'] = np.where(df['Play Type'].str.contains('Rush'), 1, 0)\n",
    "# df['pass'] = np.where(df['Play Type'].str.contains('Pass'), 1, 0)\n",
    "# df['Scoring'] = df['Scoring'].astype(int)\n",
    "\n",
    "df[['Clock Minutes', 'Clock Seconds']]\n",
    "df['totalseconds'] = (df['Clock Minutes'] * 60) + df['Clock Seconds']\n",
    "df[['Clock Minutes', 'Clock Seconds', 'totalseconds']]\n",
    "df['pointsscored'] = df['Offense Score'] + df['Defense Score']\n",
    "df[['Offense Score', 'Defense Score', 'pointsscored']]\n",
    "df['L1 Yards Gained'] = df.groupby('Game Id')['Yards Gained'].shift()\n",
    "df['L2 Yards Gained'] = df.groupby('Game Id')['Yards Gained'].shift(2)\n",
    "df['L1 Play Type'] = df.groupby('Game Id')['Play Type'].shift()\n",
    "df['L2 Play Type'] = df.groupby('Game Id')['Play Type'].shift(2)\n",
    "df['L1 Down'] = df.groupby('Game Id')['Down'].shift()\n",
    "df['L2 Down'] = df.groupby('Game Id')['Down'].shift(2)\n",
    "df['L1 Down'] = df.groupby('Game Id')['Distance'].shift()\n",
    "df['L2 Down'] = df.groupby('Game Id')['Distance'].shift(2)\n",
    "# Down and distance from prev play\n",
    "df['Play Type'].value_counts()"
   ]
  },
  {
   "cell_type": "code",
   "execution_count": 58,
   "metadata": {},
   "outputs": [],
   "source": [
    "key_features = ['Offense Score', 'Defense Score', 'Drive Number', 'Play Number', 'Period', 'totalseconds', \n",
    "                'Offense Timeouts', 'Yard Line', 'Yards To Goal', 'Down', 'Distance', 'Previous Play Yards', \n",
    "                'Play Type']\n",
    "\n",
    "\n",
    "# Filter the DataFrame\n",
    "keep_play_types = ['Rush', 'Pass', 'Rushing Touchdown', 'Pass Reception', 'Pass Incompletion',\n",
    "                           'Passing Touchdown', 'Pass Interception Return']\n",
    "df = df[df['Play Type'].isin(keep_play_types)]\n",
    "\n",
    "play_type_mapping = {\n",
    "    'Rushing Touchdown': 'Rush',\n",
    "    'Pass Reception': 'Pass',\n",
    "    'Pass Incompletion': 'Pass',\n",
    "    'Passing Touchdown': 'Pass',\n",
    "    'Pass Interception Return': 'Pass'\n",
    "}\n",
    "\n",
    "df = df.replace(play_type_mapping)\n",
    "df['Play Type'] = LabelEncoder().fit_transform(df['Play Type'])\n",
    "\n",
    "\n",
    "df = df[key_features]\n",
    "# df = df.dropna()\n",
    "X = df.drop(columns=['Play Type']).to_numpy()\n",
    "y = df['Play Type'].to_numpy()"
   ]
  },
  {
   "cell_type": "code",
   "execution_count": 59,
   "metadata": {},
   "outputs": [],
   "source": [
    "# TODO: Train models\n",
    "# Also pretty easy, just input the stuff, tweak hyperparameters (grid search baby) and set that beast loose"
   ]
  },
  {
   "cell_type": "code",
   "execution_count": 60,
   "metadata": {},
   "outputs": [
    {
     "name": "stdout",
     "output_type": "stream",
     "text": [
      "Training accuracy: 1.0\n",
      "Test accuracy: 0.5185185185185185\n"
     ]
    }
   ],
   "source": [
    "X_train, X_test, y_train, y_test = train_test_split(X, y, test_size=0.2)\n",
    "\n",
    "clf = RandomForestClassifier()\n",
    "clf.fit(X_train, y_train)\n",
    "\n",
    "print(f\"Training accuracy: {clf.score(X_train, y_train)}\")\n",
    "print(f\"Test accuracy: {clf.score(X_test, y_test)}\")"
   ]
  },
  {
   "cell_type": "code",
   "execution_count": null,
   "metadata": {},
   "outputs": [],
   "source": []
  }
 ],
 "metadata": {
  "kernelspec": {
   "display_name": "Python 3",
   "language": "python",
   "name": "python3"
  },
  "language_info": {
   "codemirror_mode": {
    "name": "ipython",
    "version": 3
   },
   "file_extension": ".py",
   "mimetype": "text/x-python",
   "name": "python",
   "nbconvert_exporter": "python",
   "pygments_lexer": "ipython3",
   "version": "3.12.0"
  }
 },
 "nbformat": 4,
 "nbformat_minor": 2
}
