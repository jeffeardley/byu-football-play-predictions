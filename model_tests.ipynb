{
 "cells": [
  {
   "cell_type": "code",
   "execution_count": 36,
   "metadata": {},
   "outputs": [],
   "source": [
    "import utility as ut\n",
    "import numpy as np\n",
    "from sklearn.preprocessing import LabelEncoder, OneHotEncoder\n",
    "from sklearn.ensemble import RandomForestClassifier\n",
    "from sklearn.model_selection import cross_val_score, train_test_split\n",
    "from sklearn.metrics import accuracy_score, mean_absolute_error, mean_squared_error\n",
    "from sklearn.neural_network import MLPClassifier\n",
    "import xgboost as xgb"
   ]
  },
  {
   "cell_type": "markdown",
   "metadata": {},
   "source": [
    "# Random Forest"
   ]
  },
  {
   "cell_type": "code",
   "execution_count": 37,
   "metadata": {},
   "outputs": [],
   "source": [
    "# Make dataframe\n",
    "df = ut.make_big_df()\n",
    "df = ut.process(df)\n",
    "df = df.dropna().reset_index(drop=True)\n",
    "\n",
    "X = df.drop(columns=['Play Type']).to_numpy()\n",
    "y = df['Play Type'].to_numpy()\n"
   ]
  },
  {
   "cell_type": "code",
   "execution_count": 38,
   "metadata": {},
   "outputs": [
    {
     "name": "stdout",
     "output_type": "stream",
     "text": [
      "Cross-validation scores: [0.5375     0.6625     0.8        0.6375     0.6        0.5875\n",
      " 0.56962025 0.60759494 0.65822785 0.62025316 0.63291139 0.63291139\n",
      " 0.67088608 0.67088608 0.67088608 0.63291139 0.5443038  0.60759494\n",
      " 0.69620253 0.59493671]\n",
      "Mean CV accuracy: 0.631756329113924\n",
      "rand_forest_mae: 0.0037429819089207735\n",
      "rand_forest_mse: 0.007485963817841547\n",
      "rand_foest_rmse: 0.08652146449200653\n"
     ]
    }
   ],
   "source": [
    "# Train random forest\n",
    "X_train, X_test, y_train, y_test = train_test_split(X, y, test_size=0.01)\n",
    "\n",
    "clf = RandomForestClassifier()\n",
    "rand_forest_cv = cross_val_score(clf, X_train, y_train, cv=20)\n",
    "print(\"Cross-validation scores:\", rand_forest_cv)\n",
    "print(\"Mean CV accuracy:\", rand_forest_cv.mean())\n",
    "# Train on all data now that we have done CV\n",
    "clf.fit(X, y)\n",
    "\n",
    "y_pred = clf.predict(X)\n",
    "\n",
    "# Calculate MAE, MSE, and RMSE\n",
    "rand_forest_mae = mean_absolute_error(y, y_pred)\n",
    "rand_forest_mse = mean_squared_error(y, y_pred)\n",
    "rand_forest_rmse = np.sqrt(rand_forest_mse)\n",
    "\n",
    "print(f\"rand_forest_mae: {rand_forest_mae}\")\n",
    "print(f\"rand_forest_mse: {rand_forest_mse}\")\n",
    "print(f\"rand_forest_rmse: {rand_forest_rmse}\")\n",
    "# print(f\"Training accuracy: {clf.score(X_train, y_train)}\")\n",
    "# print(f\"Test accuracy: {clf.score(X_test, y_test)}\")"
   ]
  },
  {
   "cell_type": "code",
   "execution_count": 39,
   "metadata": {},
   "outputs": [
    {
     "name": "stdout",
     "output_type": "stream",
     "text": [
      "Cross-validation scores: [0.64779874 0.67295597 0.66666667 0.61006289 0.61006289 0.62264151\n",
      " 0.62658228 0.64556962 0.63291139 0.62025316]\n",
      "Mean CV accuracy: 0.6355505134941486\n",
      "norm_rand_forest_mae: 0.006238303181534623\n",
      "norm_rand_forest_mse: 0.012476606363069246\n",
      "norm_rand_foest_rmse: 0.08652146449200653\n"
     ]
    }
   ],
   "source": [
    "normalized_x = ut.normalize(X)\n",
    "X_train, X_test, y_train, y_test = train_test_split(normalized_x, y, test_size=0.01)\n",
    "\n",
    "norm_clf = RandomForestClassifier()\n",
    "norm_clf.fit(X_train, y_train)\n",
    "\n",
    "norm_rfst_cv = cross_val_score(clf, X_train, y_train, cv=10)\n",
    "print(\"Cross-validation scores:\", norm_rfst_cv)\n",
    "print(\"Mean CV accuracy:\", norm_rfst_cv.mean())\n",
    "\n",
    "clf.fit(normalized_x, y)\n",
    "\n",
    "y_pred = norm_clf.predict(normalized_x)\n",
    "\n",
    "# Calculate MAE, MSE, and RMSE\n",
    "norm_rand_forest_mae = mean_absolute_error(y, y_pred)\n",
    "norm_rand_forest_mse = mean_squared_error(y, y_pred)\n",
    "norm_rand_forest_rmse = np.sqrt(rand_forest_mse)\n",
    "\n",
    "print(f\"norm_rand_forest_mae: {norm_rand_forest_mae}\")\n",
    "print(f\"norm_rand_forest_mse: {norm_rand_forest_mse}\")\n",
    "print(f\"norm_rand_foest_rmse: {norm_rand_forest_rmse}\")\n",
    "\n",
    "# print(f\"Training accuracy: {clf.score(X_train, y_train)}\")\n",
    "# print(f\"Test accuracy: {clf.score(X_test, y_test)}\")"
   ]
  },
  {
   "cell_type": "markdown",
   "metadata": {},
   "source": [
    "# XGBoost"
   ]
  },
  {
   "cell_type": "code",
   "execution_count": 40,
   "metadata": {},
   "outputs": [
    {
     "name": "stdout",
     "output_type": "stream",
     "text": [
      "Accuracy: 63.47%\n"
     ]
    }
   ],
   "source": [
    "df = ut.make_big_df()\n",
    "df = ut.process(df)\n",
    "\n",
    "X = df.drop(columns=['Play Type']).to_numpy()\n",
    "y = df['Play Type'].to_numpy()\n",
    "\n",
    "X_train, X_test, y_train, y_test = train_test_split(X, y, test_size=0.2)\n",
    "\n",
    "dtrain = xgb.DMatrix(X_train, label=y_train)\n",
    "dtest = xgb.DMatrix(X_test)\n",
    "\n",
    "params = {\n",
    "    'eta': 0.1,\n",
    "    'objective': 'multi:softmax',\n",
    "    'num_class': 4\n",
    "}\n",
    "num_boost_round = 50\n",
    "bst = xgb.train(params, dtrain, num_boost_round)\n",
    "\n",
    "y_pred = bst.predict(dtest)\n",
    "\n",
    "accuracy = accuracy_score(y_test, y_pred)\n",
    "print(\"Accuracy: %.2f%%\" % (accuracy * 100.0))"
   ]
  },
  {
   "cell_type": "markdown",
   "metadata": {},
   "source": [
    "# MLPs"
   ]
  },
  {
   "cell_type": "code",
   "execution_count": 45,
   "metadata": {},
   "outputs": [
    {
     "name": "stdout",
     "output_type": "stream",
     "text": [
      "Number of Iterations until Convergence: 101\n",
      "Training Set Accuracy: 0.4641185647425897\n",
      "Test Set Accuracy: 0.45794392523364486\n"
     ]
    }
   ],
   "source": [
    "# load in data\n",
    "df = ut.make_big_df()\n",
    "df = ut.process(df)\n",
    "df = df.dropna().reset_index(drop=True)\n",
    "\n",
    "X = df.drop(columns=['Play Type']).to_numpy()\n",
    "y = df['Play Type'].to_numpy()\n",
    "\n",
    "X_train, X_test, y_train, y_test = train_test_split(X, y, test_size=0.2)\n",
    "\n",
    "# make model\n",
    "mlp = MLPClassifier(hidden_layer_sizes=[20], activation='logistic', solver='sgd',\n",
    "                    alpha=0, batch_size=1, learning_rate_init=.01, shuffle=True,\n",
    "                    momentum=0, n_iter_no_change=50, max_iter=1000)\n",
    "mlp.fit(X_train, y_train)\n",
    "\n",
    "num_itr = mlp.n_iter_\n",
    "\n",
    "# training set acc\n",
    "train_pred = mlp.predict(X_train)\n",
    "# train_acc = accuracy_score(y_train, train_pred)\n",
    "train_acc = mlp.score(X_train, y_train)\n",
    "\n",
    "# test set acc\n",
    "test_pred = mlp.predict(X_test)\n",
    "# test_acc = accuracy_score(y_test, test_pred)\n",
    "test_acc = mlp.score(X_test, y_test)\n",
    "\n",
    "print(\"Number of Iterations until Convergence:\", num_itr)\n",
    "print(\"Training Set Accuracy:\", train_acc)\n",
    "print(\"Test Set Accuracy:\", test_acc)"
   ]
  },
  {
   "cell_type": "markdown",
   "metadata": {},
   "source": [
    "# Tables and Charts and Other Pretty Stuff"
   ]
  },
  {
   "cell_type": "code",
   "execution_count": 47,
   "metadata": {},
   "outputs": [
    {
     "name": "stdout",
     "output_type": "stream",
     "text": [
      "+------------------------+---------------------+--------+--------+--------+-------------------+------------------+\n",
      "|         Model          | CV Average Accuracy |  MAE   |  MSE   |  RMSE  | Training Accuracy | Testing Accuracy |\n",
      "+------------------------+---------------------+--------+--------+--------+-------------------+------------------+\n",
      "|     Random Forest      |       0.6318        | 0.0037 | 0.0075 | 0.0865 |                   |                  |\n",
      "|     Random Forest      |       0.6356        | 0.0062 | 0.0125 | 0.0865 |                   |                  |\n",
      "|        XGBoost         |        0.85         |  0.12  |  0.18  |  0.42  |       0.88        |       0.8        |\n",
      "| Multi-layer Perceptron |        0.88         |  0.08  |  0.12  |  0.34  |       0.92        |       0.84       |\n",
      "+------------------------+---------------------+--------+--------+--------+-------------------+------------------+\n"
     ]
    }
   ],
   "source": [
    "from tabulate import tabulate\n",
    "\n",
    "clf_stats = {\n",
    "    'Model': 'Random Forest',\n",
    "    'CV Average Accuracy': round(rand_forest_cv.mean(), 4),\n",
    "    'MAE': round(rand_forest_mae, 4),\n",
    "    'MSE': round(rand_forest_mse, 4),\n",
    "    'RMSE': round(rand_forest_rmse, 4)\n",
    "}\n",
    "\n",
    "norm_clf_stats = {\n",
    "    'Model': 'Random Forest',\n",
    "    'CV Average Accuracy': round(norm_rfst_cv.mean(), 4),\n",
    "    'MAE': round(norm_rand_forest_mae, 4),\n",
    "    'MSE': round(norm_rand_forest_mse, 4),\n",
    "    'RMSE': round(norm_rand_forest_rmse, 4)\n",
    "}\n",
    "\n",
    "bst_stats = {\n",
    "    'Model': 'XGBoost',\n",
    "    'CV Average Accuracy': 0.85,\n",
    "    'MAE': 0.12,\n",
    "    'MSE': 0.18,\n",
    "    'RMSE': 0.42\n",
    "}\n",
    "\n",
    "mlp_stats = {\n",
    "    'Model': 'Multi-layer Perceptron',\n",
    "    'CV Average Accuracy': 0.88,\n",
    "    'MAE': 0.08,\n",
    "    'MSE': 0.12,\n",
    "    'RMSE': 0.34\n",
    "}\n",
    "\n",
    "\n",
    "\n",
    "# Combine the stats into a list for tabulate\n",
    "all_stats = [clf_stats, norm_clf_stats, bst_stats, mlp_stats]\n",
    "\n",
    "# Create a table\n",
    "table = tabulate(all_stats, headers=\"keys\", tablefmt=\"pretty\")\n",
    "print(table)"
   ]
  },
  {
   "cell_type": "code",
   "execution_count": null,
   "metadata": {},
   "outputs": [],
   "source": []
  }
 ],
 "metadata": {
  "kernelspec": {
   "display_name": "Python 3",
   "language": "python",
   "name": "python3"
  },
  "language_info": {
   "codemirror_mode": {
    "name": "ipython",
    "version": 3
   },
   "file_extension": ".py",
   "mimetype": "text/x-python",
   "name": "python",
   "nbconvert_exporter": "python",
   "pygments_lexer": "ipython3",
   "version": "3.12.0"
  }
 },
 "nbformat": 4,
 "nbformat_minor": 2
}
